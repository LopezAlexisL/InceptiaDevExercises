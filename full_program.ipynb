{
  "nbformat": 4,
  "nbformat_minor": 0,
  "metadata": {
    "colab": {
      "provenance": [],
      "authorship_tag": "ABX9TyP+DJtHErF+2oHegqms6thA",
      "include_colab_link": true
    },
    "kernelspec": {
      "name": "python3",
      "display_name": "Python 3"
    },
    "language_info": {
      "name": "python"
    }
  },
  "cells": [
    {
      "cell_type": "markdown",
      "metadata": {
        "id": "view-in-github",
        "colab_type": "text"
      },
      "source": [
        "<a href=\"https://colab.research.google.com/github/LopezAlexisL/InceptiaDevExercises/blob/main/full_program.ipynb\" target=\"_parent\"><img src=\"https://colab.research.google.com/assets/colab-badge.svg\" alt=\"Open In Colab\"/></a>"
      ]
    },
    {
      "cell_type": "code",
      "execution_count": 3,
      "metadata": {
        "id": "yMPlXJI-Cd-t"
      },
      "outputs": [],
      "source": [
        "import pandas as pd\n",
        "import requests\n",
        "import json"
      ]
    },
    {
      "cell_type": "markdown",
      "source": [
        "Exercise 1"
      ],
      "metadata": {
        "id": "BsFn4v6HC1XH"
      }
    },
    {
      "cell_type": "code",
      "source": [
        "class GeoAPI:\n",
        "    '''\n",
        "    Class that consult the weather in Pehuajo city using the data needed in local variables.\n",
        "    method: is_hot_in_pehuajo -> returns bool object\n",
        "    '''\n",
        "\n",
        "\n",
        "    API_KEY = \"d81015613923e3e435231f2740d5610b\"\n",
        "    LAT = \"-35.836948753554054\"\n",
        "    LON = \"-61.870523905384076\"\n",
        "    url = f'https://api.openweathermap.org/data/2.5/weather?lat={LAT}&lon={LON}&appid={API_KEY}'\n",
        "\n",
        "    @classmethod\n",
        "    def is_hot_in_pehuajo(cls) -> bool:\n",
        "\n",
        "        '''\n",
        "        Function that receives a class as parametre and return bool object.\n",
        "        Check weather, parse it to °C and return False if <28° or True if >28°\n",
        "        '''\n",
        "\n",
        "        res = requests.get(cls.url)\n",
        "        if res.status_code not in (200,):\n",
        "            return False\n",
        "        res_json = json.loads(res.content)\n",
        "        temp_kelvin = res_json['main']['temp']\n",
        "        to_celsius = temp_kelvin - 273.15\n",
        "        temp_celsius = round(to_celsius, 2)\n",
        "        if temp_celsius <= 28:\n",
        "            return False\n",
        "        else:\n",
        "            return True"
      ],
      "metadata": {
        "id": "0gssqWvPC33H"
      },
      "execution_count": 4,
      "outputs": []
    },
    {
      "cell_type": "markdown",
      "source": [
        "Exercise 2"
      ],
      "metadata": {
        "id": "GjWkrDxvC8Qo"
      }
    },
    {
      "cell_type": "code",
      "source": [
        "'''\n",
        "Use pandas to create DataFrame from dict.\n",
        "Use functions to filter the original DataFrame and return bool object acording to the results\n",
        "'''\n",
        "\n",
        "_PRODUCT_DF = pd.DataFrame({\"product_name\": [\"Chocolate\", \"Granizado\",\n",
        "\"Limon\", \"Dulce de Leche\"], \"quantity\": [3,10,0,5]})\n",
        "\n",
        "\n",
        "def is_product_available(product_name: str, quantity: int) -> bool:\n",
        "\n",
        "    '''\n",
        "    Function that recive two parameters and return bool object.\\n\n",
        "    Create a new DataFrame departing form the DataFrame previusly given and filtring it using the first parameter.\\n\n",
        "    Create a second DataFrame with a series of one bool value using the second parameter.\\n\n",
        "    Returns that bool value.\n",
        "    '''\n",
        "\n",
        "    product = _PRODUCT_DF[_PRODUCT_DF['product_name']==product_name]\n",
        "\n",
        "    stock = product['quantity'] >= quantity\n",
        "\n",
        "    return stock.values[0]\n",
        "\n",
        "def prevent_loop(product_name: str, quantity: int) -> bool:\n",
        "\n",
        "    '''\n",
        "    Function that receives 2 parameters and return bool object.\\n\n",
        "    Use function is_product_available, pass the two recived parameters and store the result in a local variable.\\n\n",
        "    If variable == False generate a 3-round loop to re-edit the parameters.\\n\n",
        "    Returns bool value of the local variable\n",
        "    '''\n",
        "\n",
        "    res = is_product_available(product_name, quantity)\n",
        "    if res:\n",
        "        return res\n",
        "    flag = True\n",
        "    counter = 3\n",
        "    # ---------------------------\n",
        "    while flag:\n",
        "        counter -= 1\n",
        "        print(\"No tenemos el healdo que pidio o esta sin stock. Por favor seleccione un helado de los que ve en las opciones. Tiene \"+str(counter)+\" intentos antes que se cierre el programa.\")\n",
        "        product_name_new = input('Que helado quiere comprar?: ')\n",
        "        quantity_new = int(input('Cuantas unidades?: '))\n",
        "        res = is_product_available(product_name_new, quantity_new)\n",
        "        if res:\n",
        "            print('Gracias por su compra')\n",
        "            flag = False\n",
        "        elif counter == 0:\n",
        "            print('Se quedo sin intentos')\n",
        "            break\n",
        "        else:\n",
        "            continue\n",
        "        \n",
        "    return res"
      ],
      "metadata": {
        "id": "vBkiJDGiDCNZ"
      },
      "execution_count": 5,
      "outputs": []
    },
    {
      "cell_type": "markdown",
      "source": [
        "Exercise 3"
      ],
      "metadata": {
        "id": "27FrMBglDLFw"
      }
    },
    {
      "cell_type": "code",
      "source": [
        "'''\n",
        "Has a list built-in with codes, and a function that receives a code and returns bool objet when compared with list\n",
        "'''\n",
        "\n",
        "\n",
        "_AVAILABLE_DISCOUNT_CODES = [\"Primavera2021\", \"Verano2021\", \"Navidad2x1\",\n",
        "\"heladoFrozen\"]\n",
        "\n",
        "def validate_discount_code(discount_code: str)-> bool:\n",
        "\n",
        "    '''\n",
        "    Function that receives str and returns bool object.\\n\n",
        "    Generates a dict with key:codes to compare; value:str recived as parameter.\\n\n",
        "    Evaluates diference of characters with an error of max 2 characters.\\n\n",
        "    Returns True if conditions are fulfilled and False if not \n",
        "    '''\n",
        "\n",
        "    l = dict()\n",
        "    for promo in _AVAILABLE_DISCOUNT_CODES:\n",
        "        l[f\"{promo}\"] = []\n",
        "    for promo in _AVAILABLE_DISCOUNT_CODES:\n",
        "        for leter in discount_code:\n",
        "            if leter not in promo:\n",
        "                l[f\"{promo}\"].append(leter)\n",
        "        for x in promo:\n",
        "            if x not in discount_code:\n",
        "                l[f\"{promo}\"].append(x)\n",
        "    for k, v in l.items():\n",
        "        if len(v) < 3:\n",
        "            return True\n",
        "    return False"
      ],
      "metadata": {
        "id": "suJXPNECDMxp"
      },
      "execution_count": 7,
      "outputs": []
    },
    {
      "cell_type": "markdown",
      "source": [
        "Full Program"
      ],
      "metadata": {
        "id": "Zn3IPLfIDS1a"
      }
    },
    {
      "cell_type": "code",
      "source": [
        "def confirm_order(product_name: str, quantity: int, discount_code: str) -> bool:\n",
        "    _ORDER_DF = pd.DataFrame({'Producto':[product_name], 'Cantidad':[quantity], 'Codigo Usado':[discount_code]}, index=None)\n",
        "    print('Su pedido es el siguiente:')\n",
        "    print(_ORDER_DF)\n",
        "    confirm = int(input('[1]Confirmar\\n[2]Salir\\nIngrese la opcion: '))\n",
        "    if confirm == 1:\n",
        "        return True\n",
        "    else:\n",
        "        return False\n",
        "\n",
        "# ---------------------------\n",
        "\n",
        "temp = GeoAPI()\n",
        "\n",
        "if temp == False:\n",
        "    print('Esta fresquito y aun asi con ganas de helado? Entonces mira los sabores que tenemos para ofrecerte. Elegi uno de las opciones por favor. Tene en cuenta tambien el stock que se te menciona.')\n",
        "else:\n",
        "    print('Que lindo dia para un helado! Mira los sabores que tenemos para ofrecerte. Elegi uno de las opciones por favor. Tene en cuenta tambien el stock que se te menciona.')\n",
        "\n",
        "\n",
        "print('Estos son los sabores con el stock correspondiente:')\n",
        "print(_PRODUCT_DF)\n",
        "\n",
        "flag_1 = True\n",
        "counter_1 = 3\n",
        "while flag_1:\n",
        "    product_name = input(f'Que helado quiere comprar? (Tiene {counter_1} intentos antes que se cierre el programa): ')\n",
        "    quantity = int(input('Cuantas unidades?: '))\n",
        "    counter_1 -= 1\n",
        "    if product_name in _PRODUCT_DF['product_name'].values:\n",
        "        flag_1 = False\n",
        "    elif counter_1 > 1:\n",
        "        print('El producto que ingreso no existe. Por favor asegurese de ingresar bien el nombre como aparece en las opciones')\n",
        "    else:\n",
        "        break    \n",
        "\n",
        "order = prevent_loop(product_name, quantity)\n",
        "\n",
        "print('Ahora por favor ingrese el codigo de descuento para finalizar la compra')\n",
        "\n",
        "flag = True\n",
        "counter = 0\n",
        "while flag:\n",
        "    counter += 1\n",
        "    discount_code = input(f'Ingrese el codigo de descuento por favor (tiene {3 - counter} intentos): ')\n",
        "    discount = validate_discount_code(discount_code)\n",
        "    if discount:\n",
        "        flag = False\n",
        "        print(\"Excelente ya hemos aplicado su descuento 👌\")\n",
        "        end_order = confirm_order(product_name, quantity, discount_code)\n",
        "        if end_order:\n",
        "            print('Gracias por su compra!')\n",
        "        else:\n",
        "            break\n",
        "    elif counter >= 2:\n",
        "        print('Su codigo no es valido.')\n",
        "    else:\n",
        "        continue"
      ],
      "metadata": {
        "colab": {
          "base_uri": "https://localhost:8080/"
        },
        "id": "jY-Uu_w8DWd6",
        "outputId": "f2ec7487-1c66-44e0-d3de-62bc2792c479"
      },
      "execution_count": 8,
      "outputs": [
        {
          "output_type": "stream",
          "name": "stdout",
          "text": [
            "Que lindo dia para un helado! Mira los sabores que tenemos para ofrecerte. Elegi uno de las opciones por favor. Tene en cuenta tambien el stock que se te menciona.\n",
            "Estos son los sabores con el stock correspondiente:\n",
            "     product_name  quantity\n",
            "0       Chocolate         3\n",
            "1       Granizado        10\n",
            "2           Limon         0\n",
            "3  Dulce de Leche         5\n",
            "Que helado quiere comprar? (Tiene 3 intentos antes que se cierre el programa): Chocolate\n",
            "Cuantas unidades?: 2\n",
            "Ahora por favor ingrese el codigo de descuento para finalizar la compra\n",
            "Ingrese el codigo de descuento por favor (tiene 2 intentos): primavera2021\n",
            "Excelente ya hemos aplicado su descuento 👌\n",
            "Su pedido es el siguiente:\n",
            "    Producto  Cantidad   Codigo Usado\n",
            "0  Chocolate         2  primavera2021\n",
            "[1]Confirmar\n",
            "[2]Salir\n",
            "Ingrese la opcion: 1\n",
            "Gracias por su compra!\n"
          ]
        }
      ]
    },
    {
      "cell_type": "markdown",
      "source": [],
      "metadata": {
        "id": "mkwk9_QvCwMf"
      }
    }
  ]
}